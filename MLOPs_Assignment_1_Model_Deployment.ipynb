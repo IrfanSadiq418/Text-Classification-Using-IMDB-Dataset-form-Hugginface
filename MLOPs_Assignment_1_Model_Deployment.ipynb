{
  "nbformat": 4,
  "nbformat_minor": 0,
  "metadata": {
    "colab": {
      "provenance": []
    },
    "kernelspec": {
      "name": "python3",
      "display_name": "Python 3"
    },
    "language_info": {
      "name": "python"
    }
  },
  "cells": [
    {
      "cell_type": "code",
      "execution_count": 20,
      "metadata": {
        "id": "5vRPpUYF18Ay"
      },
      "outputs": [],
      "source": [
        "import pickle"
      ]
    },
    {
      "cell_type": "code",
      "source": [
        "# Load the saved model from the pickle file\n",
        "with open('text_classification_model.pkl', 'rb') as f:\n",
        "    loaded_model = pickle.load(f)\n"
      ],
      "metadata": {
        "id": "cK8dTdh02DWT"
      },
      "execution_count": 21,
      "outputs": []
    },
    {
      "cell_type": "code",
      "source": [
        "from sklearn.feature_extraction.text import TfidfVectorizer\n",
        "\n",
        "# Load the saved model from the pickle file\n",
        "with open('text_classification_model.pkl', 'rb') as f:\n",
        "    loaded_model = pickle.load(f)\n",
        "\n",
        "# Load the TF-IDF vectorizer used for preprocessing\n",
        "with open('tfidf_vectorizer.pkl', 'rb') as f:\n",
        "    tfidf_vectorizer = pickle.load(f)\n",
        "\n",
        "def preprocess_text(text):\n",
        "    # Preprocess the text\n",
        "    text = [text]\n",
        "    text = tfidf_vectorizer.transform(text)\n",
        "    return text\n",
        "\n",
        "def predict_class(text):\n",
        "    # Preprocess the text\n",
        "    processed_text = preprocess_text(text)\n",
        "    # Use the loaded model to predict the class\n",
        "    predicted_class = loaded_model.predict(processed_text)[0]\n",
        "    return predicted_class\n",
        "\n",
        "# Test the deployed model with sample text inputs\n",
        "sample_texts = [\n",
        "    \"This movie was fantastic! I loved every moment of it.\",\n",
        "    \"The acting in this film was terrible. I wouldn't recommend it to anyone.\",\n",
        "    \"I'm not sure how I feel about this movie. It had some good moments but overall felt lacking.\",\n",
        "]\n",
        "\n",
        "for text in sample_texts:\n",
        "    predicted_class = predict_class(text)\n",
        "    print(f\"Text: '{text}'\")\n",
        "    print(\"Predicted Class:\", predicted_class)\n",
        "    print()\n"
      ],
      "metadata": {
        "colab": {
          "base_uri": "https://localhost:8080/"
        },
        "id": "oR2R3STT29Dn",
        "outputId": "32488ed4-98a0-42f6-f8f8-3353673b5939"
      },
      "execution_count": 22,
      "outputs": [
        {
          "output_type": "stream",
          "name": "stdout",
          "text": [
            "Text: 'This movie was fantastic! I loved every moment of it.'\n",
            "Predicted Class: 1\n",
            "\n",
            "Text: 'The acting in this film was terrible. I wouldn't recommend it to anyone.'\n",
            "Predicted Class: 0\n",
            "\n",
            "Text: 'I'm not sure how I feel about this movie. It had some good moments but overall felt lacking.'\n",
            "Predicted Class: 1\n",
            "\n"
          ]
        }
      ]
    },
    {
      "cell_type": "code",
      "source": [],
      "metadata": {
        "id": "8PsoB5oB3fUm"
      },
      "execution_count": 22,
      "outputs": []
    }
  ]
}